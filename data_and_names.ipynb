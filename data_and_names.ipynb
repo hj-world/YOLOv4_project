{
 "cells": [
  {
   "cell_type": "code",
   "execution_count": 1,
   "id": "compatible-serbia",
   "metadata": {},
   "outputs": [],
   "source": [
    "# data 파일 생성\n",
    "file_data = open('./smd.data', 'w')\n",
    "file_data.write('classes=10\\n') #클래스 갯수\n",
    "file_data.write('names=p/class.names\\n') #클래스 이름\n",
    "file_data.write('train=train.txt\\n') #훈련용 이미지 파일 목록\n",
    "file_data.write('valid=valid.txt\\n') #검증용 이미지 파일 목록\n",
    "file_data.write('backup=yolov2_original') #훈련 중 가중치 백업 디렉토리\n",
    "file_data.close()"
   ]
  },
  {
   "cell_type": "code",
   "execution_count": 2,
   "id": "experimental-driver",
   "metadata": {},
   "outputs": [],
   "source": [
    "# names 파일 생성\n",
    "file_names = open('./classname.names', 'w')\n",
    "file_names.write('Ferry\\n')\n",
    "file_names.write('Buoy\\n') \n",
    "file_names.write('Vessel/ship\\n') \n",
    "file_names.write('Speed boat\\n') \n",
    "file_names.write('Boat\\n') \n",
    "file_names.write('Kayak\\n') \n",
    "file_names.write('Sail boat\\n') \n",
    "file_names.write('Swimming person\\n') \n",
    "file_names.write('Flying bird/plane\\n') \n",
    "file_names.write('Other') \n",
    "file_names.close()"
   ]
  }
 ],
 "metadata": {
  "kernelspec": {
   "display_name": "Python 3",
   "language": "python",
   "name": "python3"
  },
  "language_info": {
   "codemirror_mode": {
    "name": "ipython",
    "version": 3
   },
   "file_extension": ".py",
   "mimetype": "text/x-python",
   "name": "python",
   "nbconvert_exporter": "python",
   "pygments_lexer": "ipython3",
   "version": "3.8.5"
  }
 },
 "nbformat": 4,
 "nbformat_minor": 5
}
