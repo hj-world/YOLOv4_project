{
 "cells": [
  {
   "cell_type": "code",
   "execution_count": 1,
   "id": "smart-vatican",
   "metadata": {},
   "outputs": [],
   "source": [
    "from scipy.io import loadmat\n",
    "from os import listdir\n",
    "from os.path import isfile, join\n",
    "import os\n",
    "import cv2\n",
    "import matplotlib.pyplot as plt\n",
    "import matplotlib.patches as patches\n",
    "from PIL import Image\n",
    "import numpy as np"
   ]
  },
  {
   "cell_type": "code",
   "execution_count": 2,
   "id": "median-activation",
   "metadata": {},
   "outputs": [],
   "source": [
    "# Set the paths for the video files and ground truth files\n",
    "# by default it is assumed that the paths are in the same folders\n",
    "# as the notebook\n",
    "\n",
    "# ONSHORE/ONBORAD/NIR 별로 각각 video가 저장된 경로\n",
    "# 레이블 정보인 ObjectGT 파일이 들어간 경로\n",
    "# 프레임 저장할 경로\n",
    "\n",
    "VIDEOS_PATH_ONSHORE = \"VIS_Onshore/Videos\"\n",
    "OBJECT_ANNOTATIONS_ONSHORE_PATH = \"VIS_Onshore/ObjectGT\"\n",
    "VIDEO_FRAMES_PATH_ONSHORE = 'VIS_Onshore_frames/'\n",
    "\n",
    "VIDEOS_PATH_ONBOARD = \"VIS_Onboard/Videos\"\n",
    "OBJECT_ANNOTATIONS_ONBOARD_PATH = \"VIS_Onboard/ObjectGT\"\n",
    "VIDEO_FRAMES_PATH_ONBOARD = 'VIS_Onboard_frames/'\n",
    "\n",
    "VIDEOS_PATH_NIR = \"NIR/Videos\"\n",
    "OBJECT_ANNOTATIONS_NIR_PATH = \"NIR/ObjectGT\"\n",
    "VIDEO_FRAMES_PATH_NIR = 'NIR_frames/'"
   ]
  },
  {
   "cell_type": "code",
   "execution_count": 3,
   "id": "veterinary-conservative",
   "metadata": {},
   "outputs": [],
   "source": [
    "# 각각 폴더에서 video 이름 가져와서 비디오 경로/파일 이름으로 목록을 저장함\n",
    "# join은 문자열 합치기\n",
    "# join(VIS_Onshore/Videos/, MVI_1478_VIS.avi) => VIS_Onshore/Videos/MVI_1478_VIS.avi \n",
    "\n",
    "video_files_onshore = [join(VIDEOS_PATH_ONSHORE, f) for f in listdir(VIDEOS_PATH_ONSHORE) \n",
    "                       if isfile(join(VIDEOS_PATH_ONSHORE, f))]\n",
    "\n",
    "video_files_onboard = [join(VIDEOS_PATH_ONBOARD, f) for f in listdir(VIDEOS_PATH_ONBOARD) \n",
    "                       if isfile(join(VIDEOS_PATH_ONBOARD, f))]\n",
    "\n",
    "video_files_nir = [join(VIDEOS_PATH_NIR, f) for f in listdir(VIDEOS_PATH_NIR) \n",
    "                       if isfile(join(VIDEOS_PATH_NIR, f))]"
   ]
  },
  {
   "cell_type": "code",
   "execution_count": 4,
   "id": "existing-colleague",
   "metadata": {},
   "outputs": [],
   "source": [
    "# .avi를 지운 파일 제목을 dict 배열에 저장 => 동영상 파일 이름\n",
    "\n",
    "video_files_onshore_dict = {}\n",
    "for f in listdir(VIDEOS_PATH_ONSHORE):\n",
    "    if isfile(join(VIDEOS_PATH_ONSHORE, f)):\n",
    "        video_files_onshore_dict[f.split('.')[0]] = join(VIDEOS_PATH_ONSHORE, f) # .을 기준으로 자르면 뒤에 .avi 없어지고 이름만 저장됨\n",
    "        \n",
    "video_files_onboard_dict = {}\n",
    "for f in listdir(VIDEOS_PATH_ONBOARD):\n",
    "    if isfile(join(VIDEOS_PATH_ONBOARD, f)):\n",
    "        video_files_onboard_dict[f.split('.')[0]] = join(VIDEOS_PATH_ONBOARD, f)\n",
    "        \n",
    "video_files_nir_dict = {}\n",
    "for f in listdir(VIDEOS_PATH_NIR):\n",
    "    if isfile(join(VIDEOS_PATH_NIR, f)):\n",
    "        video_files_nir_dict[f.split('.')[0]] = join(VIDEOS_PATH_NIR, f)"
   ]
  },
  {
   "cell_type": "code",
   "execution_count": 5,
   "id": "neutral-baptist",
   "metadata": {},
   "outputs": [],
   "source": [
    "# OBJECT_ANNOTATIONS_ONSHORE_PATH의 GT파일 이름을 읽어와서 .mat 없애고 _ObjectGT를 ''로 대체한 다음\n",
    "# object_gt_files_@@@_dict 배열에 저장 => GT파일 이름 목록 \n",
    "\n",
    "object_gt_files_onshore_dict = {}\n",
    "for f in listdir(OBJECT_ANNOTATIONS_ONSHORE_PATH):\n",
    "    if isfile(join(OBJECT_ANNOTATIONS_ONSHORE_PATH, f)):\n",
    "        object_gt_files_onshore_dict[f.split('.')[0].replace('_ObjectGT','')] = join(OBJECT_ANNOTATIONS_ONSHORE_PATH, f)\n",
    "        \n",
    "object_gt_files_onboard_dict = {}\n",
    "for f in listdir(OBJECT_ANNOTATIONS_ONBOARD_PATH):\n",
    "    if isfile(join(OBJECT_ANNOTATIONS_ONBOARD_PATH, f)):\n",
    "        object_gt_files_onboard_dict[f.split('.')[0].replace('_ObjectGT','')] = join(OBJECT_ANNOTATIONS_ONBOARD_PATH, f)\n",
    "        \n",
    "object_gt_files_nir_dict = {}\n",
    "for f in listdir(OBJECT_ANNOTATIONS_NIR_PATH):\n",
    "    if isfile(join(OBJECT_ANNOTATIONS_NIR_PATH, f)):\n",
    "        object_gt_files_nir_dict[f.split('.')[0].replace('_ObjectGT','')] = join(OBJECT_ANNOTATIONS_NIR_PATH, f)"
   ]
  },
  {
   "cell_type": "code",
   "execution_count": 6,
   "id": "smart-contractor",
   "metadata": {},
   "outputs": [
    {
     "name": "stdout",
     "output_type": "stream",
     "text": [
      "Number of onshore videos:  40\n",
      "Number of onshore ground truth files:  36\n",
      "Number of onboard videos:  11\n",
      "Number of onboard ground truth files:  4\n",
      "Number of near infra-red videos:  30\n",
      "Number of near infra-red ground truth files:  23\n"
     ]
    }
   ],
   "source": [
    "# onshore/onboard/nir 별 각각 동영상 파일 갯수와 GT 파일 갯수 \n",
    "\n",
    "print('Number of onshore videos: ', len(video_files_onshore_dict))\n",
    "print('Number of onshore ground truth files: ', len(object_gt_files_onshore_dict))\n",
    "\n",
    "print('Number of onboard videos: ', len(video_files_onboard_dict))\n",
    "print('Number of onboard ground truth files: ', len(object_gt_files_onboard_dict))\n",
    "\n",
    "print('Number of near infra-red videos: ', len(video_files_nir_dict))\n",
    "print('Number of near infra-red ground truth files: ', len(object_gt_files_nir_dict))"
   ]
  },
  {
   "cell_type": "code",
   "execution_count": 7,
   "id": "excellent-louis",
   "metadata": {},
   "outputs": [
    {
     "name": "stdout",
     "output_type": "stream",
     "text": [
      "Unlabelled onshore videos:  ['MVI_1485_VIS', 'MVI_1471_VIS', 'MVI_1483_VIS', 'MVI_1470_VIS']\n",
      "Unlabelled onbord videos:  ['MVI_0792_VIS_OB', 'MVI_0804_VIS_OB', 'MVI_0788_VIS_OB', 'MVI_0789_VIS_OB', 'MVI_0796_VIS_OB', 'MVI_0795_VIS_OB', 'MVI_0794_VIS_OB']\n",
      "Unlabelled nir videos:  ['MVI_1484_NIR', 'MVI_1474_NIR', 'MVI_1475_NIR', 'MVI_1481_NIR', 'MVI_1480_NIR', 'MVI_1483_NIR', 'MVI_1478_NIR']\n",
      "\n",
      "Size of video dictionaries after removing the videos without ground truth:\n",
      "Number of onshore videos:  36\n",
      "Number of onshore ground truth files:  36\n",
      "Number of onboard videos:  4\n",
      "Number of onboard ground truth files:  4\n",
      "Number of near infra-red videos:  23\n",
      "Number of near infra-red ground truth files:  23\n"
     ]
    }
   ],
   "source": [
    "# GT 파일이 없는(라벨이 없는) 동영상 파일 찾아내기 => missing_files_onshore 배열에 저장\n",
    "\n",
    "# ground truth files are missing - find the corresponding videos\n",
    "missing_files_onshore = []\n",
    "for key in video_files_onshore_dict.keys():\n",
    "    if key not in object_gt_files_onshore_dict:\n",
    "        missing_files_onshore.append(key)\n",
    "        \n",
    "print(\"Unlabelled onshore videos: \", missing_files_onshore)\n",
    "\n",
    "missing_files_onboard = []\n",
    "for key in video_files_onboard_dict.keys():\n",
    "    if key not in object_gt_files_onboard_dict:\n",
    "        missing_files_onboard.append(key)\n",
    "        \n",
    "print(\"Unlabelled onbord videos: \", missing_files_onboard)\n",
    "\n",
    "missing_files_nir = []\n",
    "for key in video_files_nir_dict.keys():\n",
    "    if key not in object_gt_files_nir_dict:\n",
    "        missing_files_nir.append(key)\n",
    "        \n",
    "print(\"Unlabelled nir videos: \", missing_files_nir)\n",
    "\n",
    "\n",
    "# set whether to remove or not the missing videos from the frames generation later\n",
    "remove_missing_files = True\n",
    "if remove_missing_files:\n",
    "    for key in missing_files_onshore:\n",
    "        del video_files_onshore_dict[key]\n",
    "    for key in missing_files_onboard:\n",
    "        del video_files_onboard_dict[key]\n",
    "    for key in missing_files_nir:\n",
    "        del video_files_nir_dict[key]\n",
    "        \n",
    "    print()\n",
    "    print('Size of video dictionaries after removing the videos without ground truth:')\n",
    "    print('Number of onshore videos: ', len(video_files_onshore_dict))\n",
    "    print('Number of onshore ground truth files: ', len(object_gt_files_onshore_dict))\n",
    "\n",
    "    print('Number of onboard videos: ', len(video_files_onboard_dict))\n",
    "    print('Number of onboard ground truth files: ', len(object_gt_files_onboard_dict))\n",
    "\n",
    "    print('Number of near infra-red videos: ', len(video_files_nir_dict))\n",
    "    print('Number of near infra-red ground truth files: ', len(object_gt_files_nir_dict))"
   ]
  },
  {
   "cell_type": "code",
   "execution_count": 8,
   "id": "involved-drunk",
   "metadata": {},
   "outputs": [
    {
     "name": "stdout",
     "output_type": "stream",
     "text": [
      "{'MVI_1614_VIS': 'VIS_Onshore/Videos/MVI_1614_VIS.avi', 'MVI_1625_VIS': 'VIS_Onshore/Videos/MVI_1625_VIS.avi', 'MVI_1592_VIS': 'VIS_Onshore/Videos/MVI_1592_VIS.avi', 'MVI_1612_VIS': 'VIS_Onshore/Videos/MVI_1612_VIS.avi', 'MVI_1623_VIS': 'VIS_Onshore/Videos/MVI_1623_VIS.avi', 'MVI_1620_VIS': 'VIS_Onshore/Videos/MVI_1620_VIS.avi', 'MVI_1617_VIS': 'VIS_Onshore/Videos/MVI_1617_VIS.avi', 'MVI_1451_VIS_Haze': 'VIS_Onshore/Videos/MVI_1451_VIS_Haze.avi', 'MVI_1610_VIS': 'VIS_Onshore/Videos/MVI_1610_VIS.avi', 'MVI_1609_VIS': 'VIS_Onshore/Videos/MVI_1609_VIS.avi', 'MVI_1613_VIS': 'VIS_Onshore/Videos/MVI_1613_VIS.avi', 'MVI_1578_VIS': 'VIS_Onshore/Videos/MVI_1578_VIS.avi', 'MVI_1627_VIS': 'VIS_Onshore/Videos/MVI_1627_VIS.avi', 'MVI_1584_VIS': 'VIS_Onshore/Videos/MVI_1584_VIS.avi', 'MVI_1583_VIS': 'VIS_Onshore/Videos/MVI_1583_VIS.avi', 'MVI_1482_VIS': 'VIS_Onshore/Videos/MVI_1482_VIS.avi', 'MVI_1640_VIS': 'VIS_Onshore/Videos/MVI_1640_VIS.avi', 'MVI_1619_VIS': 'VIS_Onshore/Videos/MVI_1619_VIS.avi', 'MVI_1624_VIS': 'VIS_Onshore/Videos/MVI_1624_VIS.avi', 'MVI_1452_VIS_Haze': 'VIS_Onshore/Videos/MVI_1452_VIS_Haze.avi', 'MVI_1644_VIS': 'VIS_Onshore/Videos/MVI_1644_VIS.avi', 'MVI_1479_VIS': 'VIS_Onshore/Videos/MVI_1479_VIS.avi', 'MVI_1622_VIS': 'VIS_Onshore/Videos/MVI_1622_VIS.avi', 'MVI_1484_VIS': 'VIS_Onshore/Videos/MVI_1484_VIS.avi', 'MVI_1646_VIS': 'VIS_Onshore/Videos/MVI_1646_VIS.avi', 'MVI_1478_VIS': 'VIS_Onshore/Videos/MVI_1478_VIS.avi', 'MVI_1645_VIS': 'VIS_Onshore/Videos/MVI_1645_VIS.avi', 'MVI_1469_VIS': 'VIS_Onshore/Videos/MVI_1469_VIS.avi', 'MVI_1587_VIS': 'VIS_Onshore/Videos/MVI_1587_VIS.avi', 'MVI_1481_VIS': 'VIS_Onshore/Videos/MVI_1481_VIS.avi', 'MVI_1615_VIS': 'VIS_Onshore/Videos/MVI_1615_VIS.avi', 'MVI_1582_VIS': 'VIS_Onshore/Videos/MVI_1582_VIS.avi', 'MVI_1474_VIS': 'VIS_Onshore/Videos/MVI_1474_VIS.avi', 'MVI_1448_VIS_Haze': 'VIS_Onshore/Videos/MVI_1448_VIS_Haze.avi', 'MVI_1486_VIS': 'VIS_Onshore/Videos/MVI_1486_VIS.avi', 'MVI_1626_VIS': 'VIS_Onshore/Videos/MVI_1626_VIS.avi'}\n"
     ]
    }
   ],
   "source": [
    "# onshore 폴더에 저장되어있는 모든 동영상 파일 목록 출력\n",
    "# '비디오 이름' : '비디오 경로' 형식\n",
    "print(video_files_onshore_dict)"
   ]
  },
  {
   "cell_type": "code",
   "execution_count": 9,
   "id": "certain-silence",
   "metadata": {},
   "outputs": [
    {
     "name": "stdout",
     "output_type": "stream",
     "text": [
      "Derived 477 frames\n"
     ]
    }
   ],
   "source": [
    "# convert a sample onshore video\n",
    "\n",
    "# 샘플 비디오를 프레임으로 전환하여 저장하는 예제\n",
    "\n",
    "video_name = 'MVI_1478_VIS'\n",
    "vidcap = cv2.VideoCapture(video_files_onshore_dict.get(video_name))\n",
    "success,image = vidcap.read()\n",
    "count = 0\n",
    "success = True\n",
    "while success:\n",
    "  cv2.imwrite(VIDEO_FRAMES_PATH_ONSHORE + video_name + \"_frame%d.jpg\" % count, image)     # save frame as JPEG file\n",
    "  success,image = vidcap.read()\n",
    "  #print('Read a new frame: ', success)\n",
    "  count += 1\n",
    "print(\"Derived %d frames\" % count)"
   ]
  },
  {
   "cell_type": "code",
   "execution_count": 11,
   "id": "under-christian",
   "metadata": {},
   "outputs": [
    {
     "name": "stdout",
     "output_type": "stream",
     "text": [
      "Derived 582 frames\n",
      "Derived 995 frames\n",
      "Derived 491 frames\n",
      "Derived 261 frames\n",
      "Derived 522 frames\n",
      "Derived 502 frames\n",
      "Derived 600 frames\n",
      "Derived 439 frames\n",
      "Derived 543 frames\n",
      "Derived 505 frames\n",
      "Derived 626 frames\n",
      "Derived 505 frames\n",
      "Derived 600 frames\n",
      "Derived 539 frames\n",
      "Derived 251 frames\n",
      "Derived 454 frames\n",
      "Derived 310 frames\n"
     ]
    },
    {
     "ename": "KeyboardInterrupt",
     "evalue": "",
     "output_type": "error",
     "traceback": [
      "\u001b[0;31m---------------------------------------------------------------------------\u001b[0m",
      "\u001b[0;31mKeyboardInterrupt\u001b[0m                         Traceback (most recent call last)",
      "\u001b[0;32m<ipython-input-11-4631174ad06d>\u001b[0m in \u001b[0;36m<module>\u001b[0;34m\u001b[0m\n\u001b[1;32m      7\u001b[0m     \u001b[0msuccess\u001b[0m \u001b[0;34m=\u001b[0m \u001b[0;32mTrue\u001b[0m\u001b[0;34m\u001b[0m\u001b[0;34m\u001b[0m\u001b[0m\n\u001b[1;32m      8\u001b[0m     \u001b[0;32mwhile\u001b[0m \u001b[0msuccess\u001b[0m\u001b[0;34m:\u001b[0m\u001b[0;34m\u001b[0m\u001b[0;34m\u001b[0m\u001b[0m\n\u001b[0;32m----> 9\u001b[0;31m       \u001b[0mcv2\u001b[0m\u001b[0;34m.\u001b[0m\u001b[0mimwrite\u001b[0m\u001b[0;34m(\u001b[0m\u001b[0mVIDEO_FRAMES_PATH_ONSHORE\u001b[0m \u001b[0;34m+\u001b[0m \u001b[0mvideo_key\u001b[0m \u001b[0;34m+\u001b[0m \u001b[0;34m\"_frame%d.jpg\"\u001b[0m \u001b[0;34m%\u001b[0m \u001b[0mcount\u001b[0m\u001b[0;34m,\u001b[0m \u001b[0mimage\u001b[0m\u001b[0;34m)\u001b[0m     \u001b[0;31m# save frame as JPEG file\u001b[0m\u001b[0;34m\u001b[0m\u001b[0;34m\u001b[0m\u001b[0m\n\u001b[0m\u001b[1;32m     10\u001b[0m       \u001b[0msuccess\u001b[0m\u001b[0;34m,\u001b[0m\u001b[0mimage\u001b[0m \u001b[0;34m=\u001b[0m \u001b[0mvidcap\u001b[0m\u001b[0;34m.\u001b[0m\u001b[0mread\u001b[0m\u001b[0;34m(\u001b[0m\u001b[0;34m)\u001b[0m\u001b[0;34m\u001b[0m\u001b[0;34m\u001b[0m\u001b[0m\n\u001b[1;32m     11\u001b[0m       \u001b[0;31m#print('Read a new frame: ', success)\u001b[0m\u001b[0;34m\u001b[0m\u001b[0;34m\u001b[0m\u001b[0;34m\u001b[0m\u001b[0m\n",
      "\u001b[0;31mKeyboardInterrupt\u001b[0m: "
     ]
    }
   ],
   "source": [
    "# convert ALL on shore videos into images with 1 image per frame\n",
    "# 비디오를 프레임 당 1 이미지로 저장 \n",
    "\n",
    "for video_key in video_files_onshore_dict:\n",
    "    vidcap = cv2.VideoCapture(video_files_onshore_dict.get(video_key))\n",
    "    success,image = vidcap.read()\n",
    "    count = 0\n",
    "    success = True\n",
    "    while success:\n",
    "      cv2.imwrite(VIDEO_FRAMES_PATH_ONSHORE + video_key + \"_frame%d.jpg\" % count, image)     # save frame as JPEG file\n",
    "      success,image = vidcap.read()\n",
    "      #print('Read a new frame: ', success)\n",
    "      count += 1\n",
    "    print(\"Derived %d frames\" % count) # 1 영상 당 얼만큼 프레임이 저장되는지"
   ]
  },
  {
   "cell_type": "code",
   "execution_count": 10,
   "id": "included-karen",
   "metadata": {},
   "outputs": [],
   "source": [
    "# boolean to determine whether to have all frames in one or separate folders (onshore/onboard/nir)\n",
    "# (onshore/onboard/nir) 폴더 각각 나눠서 프레임을 저장할 것인가\n",
    "\n",
    "SEPARATE_FOLDERS = False"
   ]
  },
  {
   "cell_type": "code",
   "execution_count": 16,
   "id": "aboriginal-andrew",
   "metadata": {},
   "outputs": [],
   "source": [
    "TRAIN_PATH = './train'\n",
    "TEST_PATH = './test'\n",
    "VIDEO_FRAMES_FOLDER_NAME_ONSHORE = 'VIS_Onshore'\n",
    "VIDEO_FRAMES_FOLDER_NAME_ONBOARD = 'VIS_Onboard'\n",
    "VIDEO_FRAMES_FOLDER_NAME_NIR = 'VIS_NIR'\n",
    "\n",
    "if SEPARATE_FOLDERS:\n",
    "    TRAIN_ONSHORE = join(TRAIN_PATH, VIDEO_FRAMES_FOLDER_NAME_ONSHORE)\n",
    "    TEST_ONSHORE = join(TEST_PATH, VIDEO_FRAMES_FOLDER_NAME_ONSHORE)\n",
    "    TRAIN_ONBOARD = join(TRAIN_PATH, VIDEO_FRAMES_FOLDER_NAME_ONBOARD)\n",
    "    TEST_ONBOARD = join(TEST_PATH, VIDEO_FRAMES_FOLDER_NAME_ONBOARD)\n",
    "    TRAIN_NIR = join(TRAIN_PATH, VIDEO_FRAMES_FOLDER_NAME_NIR)\n",
    "    TEST_NIR = join(TEST_PATH, VIDEO_FRAMES_FOLDER_NAME_NIR)\n",
    "\n",
    "    folder_names = [TRAIN_PATH, TEST_PATH, TRAIN_ONSHORE, TEST_ONSHORE, TRAIN_ONBOARD, TEST_ONBOARD, TRAIN_NIR, TEST_NIR]\n",
    "else:\n",
    "    folder_names = [TRAIN_PATH, TEST_PATH]\n",
    "    # forlder_names[0] 은 train 프레임 저장할 경로\n",
    "    # forlder_names[1] 은 test 프레임 저장할 경로\n",
    "\n",
    "# first create the folders if they don't exist\n",
    "# 폴더 만들어져있지 않으면 만들기\n",
    "for folder_name in folder_names:\n",
    "    if not (os.path.isdir(folder_name)):\n",
    "        os.mkdir(folder_name)"
   ]
  },
  {
   "cell_type": "code",
   "execution_count": 208,
   "id": "twenty-butterfly",
   "metadata": {},
   "outputs": [],
   "source": [
    "# 비디오를 5 프레임 당 1 이미지로 잘라서\n",
    "# train, test 폴더에 각각 7:3 비율로 저장하기\n",
    "\n",
    "def convert_videos_to_frames(video_dict, paths, frame_space=5, train_test_split=0.7):\n",
    "    \"\"\"\n",
    "    Helper function to convert any video frames into jpg images and split them into training and test dataset.\n",
    "    \n",
    "    Parameters\n",
    "    ----------\n",
    "    \n",
    "    video_dict : dictionary in the form <video_name>:<video_path>\n",
    "    \n",
    "    paths : tuple of the training and test paths to save the images. If both a set to the same path\n",
    "            then all the generated frames will be place in this (same) directory.\n",
    "            \n",
    "    frame_space : the space between the generated frames. Default is 5.\n",
    "    \n",
    "    train_test_split : the ration to split the frames into train and test datasets. Default is 0.7\n",
    "    \"\"\"\n",
    "    train_path = paths[0]\n",
    "    test_path = paths[1]\n",
    "    \n",
    "    for video_key in video_dict:\n",
    "        vidcap = cv2.VideoCapture(video_dict.get(video_key))\n",
    "        \n",
    "        # get total frames of video\n",
    "        total_frames = int(vidcap.get(cv2.CAP_PROP_FRAME_COUNT))\n",
    "        \n",
    "        success,image = vidcap.read()\n",
    "        count = 0\n",
    "        frame_count = 0\n",
    "        success = True\n",
    "        while success:\n",
    "            if count % frame_space == 0:\n",
    "                cv2.imwrite(\"img/\" + video_key + \"_frame%d.jpg\" % count, image) # img 디렉토리에 전체(train+test) 사진 저장\n",
    "                if (count <= train_test_split*total_frames):\n",
    "                    cv2.imwrite(join(train_path, video_key) + \"_frame%d.jpg\" % count, image)     # save frame as JPEG file\n",
    "                else:\n",
    "                    cv2.imwrite(join(test_path, video_key) + \"_frame%d.jpg\" % count, image)\n",
    "                frame_count += 1\n",
    "            success,image = vidcap.read()\n",
    "            #print('Read a new frame: ', success)\n",
    "            count += 1\n",
    "        print(\"Derived %d frames\" % frame_count)"
   ]
  },
  {
   "cell_type": "code",
   "execution_count": 209,
   "id": "ordinary-bouquet",
   "metadata": {},
   "outputs": [
    {
     "name": "stdout",
     "output_type": "stream",
     "text": [
      "Derived 120 frames\n",
      "Derived 120 frames\n",
      "Derived 120 frames\n",
      "Derived 120 frames\n",
      "Derived 117 frames\n",
      "Derived 199 frames\n",
      "Derived 99 frames\n",
      "Derived 53 frames\n",
      "Derived 105 frames\n",
      "Derived 101 frames\n",
      "Derived 120 frames\n",
      "Derived 88 frames\n",
      "Derived 109 frames\n",
      "Derived 101 frames\n",
      "Derived 126 frames\n",
      "Derived 101 frames\n",
      "Derived 120 frames\n",
      "Derived 108 frames\n",
      "Derived 51 frames\n",
      "Derived 91 frames\n",
      "Derived 62 frames\n",
      "Derived 95 frames\n",
      "Derived 99 frames\n",
      "Derived 68 frames\n",
      "Derived 51 frames\n",
      "Derived 42 frames\n",
      "Derived 62 frames\n",
      "Derived 138 frames\n",
      "Derived 104 frames\n",
      "Derived 96 frames\n",
      "Derived 107 frames\n",
      "Derived 120 frames\n",
      "Derived 120 frames\n",
      "Derived 82 frames\n",
      "Derived 114 frames\n",
      "Derived 108 frames\n",
      "Derived 89 frames\n",
      "Derived 121 frames\n",
      "Derived 126 frames\n",
      "Derived 112 frames\n",
      "Derived 114 frames\n",
      "Derived 104 frames\n",
      "Derived 120 frames\n",
      "Derived 53 frames\n",
      "Derived 62 frames\n",
      "Derived 70 frames\n",
      "Derived 107 frames\n",
      "Derived 88 frames\n",
      "Derived 120 frames\n",
      "Derived 55 frames\n",
      "Derived 121 frames\n",
      "Derived 102 frames\n",
      "Derived 120 frames\n",
      "Derived 100 frames\n",
      "Derived 109 frames\n",
      "Derived 84 frames\n",
      "Derived 116 frames\n",
      "Derived 120 frames\n",
      "Derived 64 frames\n",
      "Derived 121 frames\n",
      "Derived 59 frames\n",
      "Derived 160 frames\n",
      "Derived 96 frames\n"
     ]
    }
   ],
   "source": [
    "if SEPARATE_FOLDERS:\n",
    "    convert_videos_to_frames(video_files_onboard_dict, [TRAIN_ONBOARD, TEST_ONBOARD])\n",
    "    convert_videos_to_frames(video_files_onshore_dict, [TRAIN_ONSHORE, TEST_ONSHORE])\n",
    "    convert_videos_to_frames(video_files_nir_dict, [TRAIN_NIR, TEST_NIR])\n",
    "else:\n",
    "    convert_videos_to_frames(video_files_onboard_dict, [TRAIN_PATH, TEST_PATH])\n",
    "    convert_videos_to_frames(video_files_onshore_dict, [TRAIN_PATH, TEST_PATH])\n",
    "    convert_videos_to_frames(video_files_nir_dict, [TRAIN_PATH, TEST_PATH])"
   ]
  },
  {
   "cell_type": "code",
   "execution_count": 14,
   "id": "democratic-evans",
   "metadata": {},
   "outputs": [],
   "source": [
    "# try to draw image with bounding boxes\n",
    "# load the object ground truth files first\n",
    "# 바운딩 박스 정보 들어있는 txt 파일 열어서 objects_onshore/onboard/nir 배열에 추가\n",
    "\n",
    "objects_onshore = []\n",
    "with open(\"objects_onshore.txt\") as f:\n",
    "    for line in f: \n",
    "        line = line.strip()\n",
    "        objects_onshore.append(line)\n",
    "        \n",
    "objects_onboard = []\n",
    "with open(\"objects_onboard.txt\") as f:\n",
    "    for line in f: \n",
    "        line = line.strip()\n",
    "        objects_onboard.append(line)\n",
    "        \n",
    "objects_nir = []\n",
    "with open(\"objects_nir.txt\") as f:\n",
    "    for line in f: \n",
    "        line = line.strip()\n",
    "        objects_nir.append(line)"
   ]
  },
  {
   "cell_type": "code",
   "execution_count": 15,
   "id": "small-blair",
   "metadata": {},
   "outputs": [
    {
     "name": "stdout",
     "output_type": "stream",
     "text": [
      "MVI_1532_NIR_frame0.jpg,2.9468988954970143,502.16525063721315,182.70178419711132,40.78164825828378,3,2,1\n"
     ]
    }
   ],
   "source": [
    "print(objects_nir[0]) #텍스트 파일에서 읽어온 한 줄 = [index]"
   ]
  },
  {
   "cell_type": "code",
   "execution_count": 16,
   "id": "operating-david",
   "metadata": {},
   "outputs": [],
   "source": [
    "#get relevant frame information for previous video\n",
    "# and for frame 0\n",
    "\n",
    "# video_name 비디오의 frame 번째 이미지에 개체가 몇개 있는지\n",
    "# 그리고 그 개체를 relevant_objects 배열에 넣음\n",
    "\n",
    "video_name = 'MVI_1613_VIS'\n",
    "\n",
    "frame = '100'\n",
    "relevant_objects = [i for i in objects_onshore if i.startswith(video_name + '_frame' + frame)]"
   ]
  },
  {
   "cell_type": "code",
   "execution_count": 17,
   "id": "surprised-remark",
   "metadata": {},
   "outputs": [
    {
     "data": {
      "text/plain": [
       "10"
      ]
     },
     "execution_count": 17,
     "metadata": {},
     "output_type": "execute_result"
    }
   ],
   "source": [
    "len(relevant_objects)"
   ]
  },
  {
   "cell_type": "code",
   "execution_count": 18,
   "id": "directed-turtle",
   "metadata": {},
   "outputs": [
    {
     "name": "stdout",
     "output_type": "stream",
     "text": [
      "(1080, 1920, 3)\n",
      "-0.315633\n",
      "25.784622\n",
      "161.179694\n",
      "215.011470\n",
      "417.288445\n",
      "1048.588360\n",
      "1219.871283\n",
      "1374.841546\n",
      "1449.879779\n",
      "1776.132965\n"
     ]
    },
    {
     "data": {
      "image/png": "[encoded data removed]",
      "text/plain": [
       "<Figure size 432x288 with 1 Axes>"
      ]
     },
     "metadata": {
      "needs_background": "light"
     },
     "output_type": "display_data"
    }
   ],
   "source": [
    "# draw bounding boxes for the image\n",
    "# 예시로 사진 하나 띄우고 저장\n",
    "\n",
    "im_save = Image.open(VIDEO_FRAMES_PATH_ONSHORE + video_name + \"_frame\" + frame +\".jpg\")\n",
    "im = np.array(im_save, dtype=np.uint8)\n",
    "\n",
    "# 이미지 저장\n",
    "im_save.save(video_name + \"_frame\" + frame +\"_sample.jpg\")\n",
    "\n",
    "print(im.shape)\n",
    "\n",
    "# Create figure and axes\n",
    "fig,ax = plt.subplots(1)\n",
    "\n",
    "# Display the image\n",
    "ax.imshow(im) # y축, x축, 채널수\n",
    "\n",
    "# for every object in frame crate a rectangle patch\n",
    "for entry in relevant_objects:\n",
    "    data = entry.split(',')\n",
    "\n",
    "    # Create a Rectangle patch\n",
    "    rect = patches.Rectangle((float(data[1]),float(data[2])),float(data[3]),float(data[4]),linewidth=1,edgecolor='r',facecolor='none')\n",
    "    \n",
    "    print('%f'% float(data[1])) #소수점 아래 6자리 까지\n",
    "\n",
    "          \n",
    "    # Add the patch to the Axes\n",
    "    ax.add_patch(rect)\n",
    "\n",
    "# 축, 테두리, 공백 없애고 사진 저장\n",
    "plt.axis('off')\n",
    "plt.savefig(video_name + \"_frame\" + frame +\"_bb.jpg\", bbox_inches='tight', pad_inches=0, dpi=200)\n",
    "\n",
    "plt.show()"
   ]
  },
  {
   "cell_type": "code",
   "execution_count": 35,
   "id": "moved-wages",
   "metadata": {},
   "outputs": [],
   "source": [
    "# cfg 디렉토리에 data 파일 생성\n",
    "file_data = open('./cfg/smd.data', 'w')\n",
    "file_data.write('classes=10\\n') #클래스 갯수\n",
    "file_data.write('names=cfg/classname.names\\n') #클래스 이름\n",
    "file_data.write('train=meta/train.txt\\n') #훈련용 이미지 파일 목록\n",
    "file_data.write('test=meta/test.txt\\n') #검증용 이미지 파일 목록\n",
    "file_data.write('backup=backup') #훈련 중 가중치 백업 디렉토리\n",
    "file_data.close()"
   ]
  },
  {
   "cell_type": "code",
   "execution_count": 36,
   "id": "attempted-genius",
   "metadata": {},
   "outputs": [],
   "source": [
    "# cfg 디렉토리에 names 파일 생성\n",
    "file_names = open('./cfg/classname.names', 'w')\n",
    "file_names.write('Ferry\\n')\n",
    "file_names.write('Buoy\\n') \n",
    "file_names.write('Vessel/ship\\n') \n",
    "file_names.write('Speed boat\\n') \n",
    "file_names.write('Boat\\n') \n",
    "file_names.write('Kayak\\n') \n",
    "file_names.write('Sail boat\\n') \n",
    "file_names.write('Swimming person\\n') \n",
    "file_names.write('Flying bird/plane\\n') \n",
    "file_names.write('Other') \n",
    "file_names.close()"
   ]
  },
  {
   "cell_type": "code",
   "execution_count": 210,
   "id": "sudden-veteran",
   "metadata": {},
   "outputs": [],
   "source": [
    "# train/test 이미지 읽어서 train.txt, test.txt 작성\n",
    "# 1이미지 1텍스트 작성 => 텍스트에 이미지에 해당하는 객체 들어있음\n",
    "\n",
    "def frame_bb(frame_path, meta_path):\n",
    "    # frame_path : 프레임이 저장되어 있는 경로\n",
    "    # meta_path : train/test 별 이미지 목록 텍스트가 들어있는 경로\n",
    "    \n",
    "    \n",
    "    # train/test 이미지 읽어서 train.txt, test.txt 작성하는 과정\n",
    "    \n",
    "    isNull = 0\n",
    "        \n",
    "    meta_text = open(meta_path, 'w') #  프레임 목록\n",
    "    \n",
    "    file_list = os.listdir(frame_path)\n",
    "    \n",
    "    for frame_name in file_list:\n",
    "        \n",
    "        relevant_objects_onshore = [i for i in objects_onshore if i.startswith(frame_name)] # onshore 한 이미지의 객체 수\n",
    "        relevant_objects = relevant_objects_onshore\n",
    "        \n",
    "        if len(relevant_objects_onshore) == 0:\n",
    "            relevant_objects_onboard = [i for i in objects_onboard if i.startswith(frame_name)] # onboard 한 이미지의객체 수\n",
    "            relevant_objects = relevant_objects_onboard\n",
    "            \n",
    "            if len(relevant_objects_onboard) == 0:\n",
    "                relevant_objects_nir = [i for i in objects_nir if i.startswith(frame_name)] # nir 한 이미지의 객체 수\n",
    "                relevant_objects = relevant_objects_nir\n",
    "                \n",
    "                if len(relevant_objects_nir) == 0: # 객체 없는 이미지\n",
    "                    # img/train/test에 있는 이미지 삭제함\n",
    "                    print(frame_name)\n",
    "                    \n",
    "                    if(frame_name == '.ipynb_checkpoints'):\n",
    "                        print('.ipynb_checkpoints 파일을 삭제합니다')\n",
    "                        if os.path.isfile(frame_path+'/'+frame_name):\n",
    "                            os.remove(frame_path+'/'+frame_name)\n",
    "                        if os.path.isfile('img/' + frame_name):\n",
    "                            os.remove('img/' + frame_name)\n",
    "                        continue\n",
    "                    isNull = 1 \n",
    "              \n",
    "        meta_text.write('img/' + frame_name+'\\n') # 목록에 경로 쓰기 \n",
    "\n",
    "        name = frame_name.split('.') #.jpg 뺀 값\n",
    "        frame_text = open('./img/'+name[0]+'.txt', 'w')\n",
    "\n",
    "        \n",
    "        \n",
    "        # 1 이미지 당 1 텍스트 만드는 과정 => 텍스트에 객체 바운딩 박스 정보 모두 들어가야함\n",
    "        # darknet 형식 갖추어서 들어가야함\n",
    "        \n",
    "        if isNull == 1: #객체없는 이미지 이면 내용 없는 텍스트 파일 만들기\n",
    "            print(\"객체없는 이미지\")\n",
    "            frame_text.write(\" \")\n",
    "            frame_text.close()\n",
    "            isNull = 0\n",
    "            continue\n",
    "            \n",
    "        # for every object in frame crate a rectangle patch\n",
    "        for entry in relevant_objects:\n",
    "            data = entry.split(',')\n",
    "            \n",
    "            # classid x y width height \n",
    "            # x 최대 1920 y 최대 1080 \n",
    "            \n",
    "            x_min = float(data[1])\n",
    "            y_min = float(data[2]) \n",
    "            width = float(data[3])\n",
    "            height = float(data[4])\n",
    "            \n",
    "            if x_min <= 0.0: # x가 마이너스거나 0 값 이면\n",
    "                width = width + x_min\n",
    "                x_min = 0.00001\n",
    "            if y_min <= 0.0: # y가 마이너스거나 0 값 이면\n",
    "                height = height + y_min\n",
    "                y_min = 0.00001\n",
    "                \n",
    "            x_center = (x_min+width/2)/1920.0\n",
    "            y_center = (y_min+height/2)/1080.0\n",
    "            width = width/1920.0\n",
    "            height = height/1080.0\n",
    "            \n",
    "            object_type = int(data[5])-1 \n",
    "            \n",
    "            frame_text.write(\"%d %f %f %f %f\\n\"%(object_type,float(x_center),float(y_center),float(width),float(height)))\n",
    "        \n",
    "        frame_text.close()"
   ]
  },
  {
   "cell_type": "code",
   "execution_count": 211,
   "id": "accepting-youth",
   "metadata": {
    "scrolled": true
   },
   "outputs": [
    {
     "name": "stdout",
     "output_type": "stream",
     "text": [
      "MVI_0790_VIS_OB_frame395.jpg\n",
      "객체없는 이미지\n",
      "MVI_0790_VIS_OB_frame320.jpg\n",
      "객체없는 이미지\n",
      "MVI_0790_VIS_OB_frame345.jpg\n",
      "객체없는 이미지\n",
      "MVI_0790_VIS_OB_frame60.jpg\n",
      "객체없는 이미지\n",
      "MVI_0799_VIS_OB_frame205.jpg\n",
      "객체없는 이미지\n",
      "MVI_0799_VIS_OB_frame255.jpg\n",
      "객체없는 이미지\n",
      "MVI_0790_VIS_OB_frame350.jpg\n",
      "객체없는 이미지\n",
      "MVI_0799_VIS_OB_frame240.jpg\n",
      "객체없는 이미지\n",
      "MVI_0790_VIS_OB_frame50.jpg\n",
      "객체없는 이미지\n",
      "MVI_0790_VIS_OB_frame360.jpg\n",
      "객체없는 이미지\n",
      "MVI_0799_VIS_OB_frame85.jpg\n",
      "객체없는 이미지\n",
      "MVI_0799_VIS_OB_frame225.jpg\n",
      "객체없는 이미지\n",
      "MVI_0790_VIS_OB_frame375.jpg\n",
      "객체없는 이미지\n",
      "MVI_0790_VIS_OB_frame310.jpg\n",
      "객체없는 이미지\n",
      "MVI_0799_VIS_OB_frame280.jpg\n",
      "객체없는 이미지\n",
      "MVI_0790_VIS_OB_frame340.jpg\n",
      "객체없는 이미지\n",
      "MVI_0790_VIS_OB_frame40.jpg\n",
      "객체없는 이미지\n",
      "MVI_0799_VIS_OB_frame275.jpg\n",
      "객체없는 이미지\n",
      "MVI_0790_VIS_OB_frame335.jpg\n",
      "객체없는 이미지\n",
      "MVI_0799_VIS_OB_frame285.jpg\n",
      "객체없는 이미지\n",
      "MVI_0790_VIS_OB_frame410.jpg\n",
      "객체없는 이미지\n",
      "MVI_0799_VIS_OB_frame185.jpg\n",
      "객체없는 이미지\n",
      "MVI_0799_VIS_OB_frame190.jpg\n",
      "객체없는 이미지\n",
      "MVI_0790_VIS_OB_frame35.jpg\n",
      "객체없는 이미지\n",
      "MVI_0799_VIS_OB_frame220.jpg\n",
      "객체없는 이미지\n",
      "MVI_0790_VIS_OB_frame355.jpg\n",
      "객체없는 이미지\n",
      "MVI_0790_VIS_OB_frame45.jpg\n",
      "객체없는 이미지\n",
      "MVI_0799_VIS_OB_frame265.jpg\n",
      "객체없는 이미지\n",
      "MVI_0799_VIS_OB_frame230.jpg\n",
      "객체없는 이미지\n",
      "MVI_0799_VIS_OB_frame260.jpg\n",
      "객체없는 이미지\n",
      "MVI_0790_VIS_OB_frame420.jpg\n",
      "객체없는 이미지\n",
      "MVI_0799_VIS_OB_frame200.jpg\n",
      "객체없는 이미지\n",
      "MVI_0790_VIS_OB_frame30.jpg\n",
      "객체없는 이미지\n",
      "MVI_0790_VIS_OB_frame330.jpg\n",
      "객체없는 이미지\n",
      "MVI_0799_VIS_OB_frame250.jpg\n",
      "객체없는 이미지\n",
      "MVI_0799_VIS_OB_frame80.jpg\n",
      "객체없는 이미지\n",
      "MVI_0790_VIS_OB_frame365.jpg\n",
      "객체없는 이미지\n",
      "MVI_0799_VIS_OB_frame90.jpg\n",
      "객체없는 이미지\n",
      "MVI_0790_VIS_OB_frame405.jpg\n",
      "객체없는 이미지\n",
      "MVI_0790_VIS_OB_frame370.jpg\n",
      "객체없는 이미지\n",
      "MVI_0799_VIS_OB_frame270.jpg\n",
      "객체없는 이미지\n",
      "MVI_0790_VIS_OB_frame65.jpg\n",
      "객체없는 이미지\n",
      "MVI_0799_VIS_OB_frame195.jpg\n",
      "객체없는 이미지\n",
      "MVI_0790_VIS_OB_frame385.jpg\n",
      "객체없는 이미지\n",
      "MVI_0790_VIS_OB_frame70.jpg\n",
      "객체없는 이미지\n",
      "MVI_0790_VIS_OB_frame415.jpg\n",
      "객체없는 이미지\n",
      "MVI_0790_VIS_OB_frame390.jpg\n",
      "객체없는 이미지\n",
      "MVI_0799_VIS_OB_frame215.jpg\n",
      "객체없는 이미지\n",
      "MVI_0790_VIS_OB_frame315.jpg\n",
      "객체없는 이미지\n",
      "MVI_0799_VIS_OB_frame210.jpg\n",
      "객체없는 이미지\n",
      "MVI_0790_VIS_OB_frame325.jpg\n",
      "객체없는 이미지\n",
      "MVI_0790_VIS_OB_frame55.jpg\n",
      "객체없는 이미지\n",
      "MVI_0790_VIS_OB_frame380.jpg\n",
      "객체없는 이미지\n",
      "MVI_0790_VIS_OB_frame400.jpg\n",
      "객체없는 이미지\n",
      "MVI_0799_VIS_OB_frame245.jpg\n",
      "객체없는 이미지\n",
      "MVI_0799_VIS_OB_frame235.jpg\n",
      "객체없는 이미지\n",
      "MVI_0790_VIS_OB_frame505.jpg\n",
      "객체없는 이미지\n",
      "MVI_0790_VIS_OB_frame540.jpg\n",
      "객체없는 이미지\n",
      "MVI_0790_VIS_OB_frame440.jpg\n",
      "객체없는 이미지\n",
      "MVI_0790_VIS_OB_frame520.jpg\n",
      "객체없는 이미지\n",
      "MVI_0790_VIS_OB_frame510.jpg\n",
      "객체없는 이미지\n",
      "MVI_0790_VIS_OB_frame525.jpg\n",
      "객체없는 이미지\n",
      "MVI_0790_VIS_OB_frame475.jpg\n",
      "객체없는 이미지\n",
      "MVI_0790_VIS_OB_frame470.jpg\n",
      "객체없는 이미지\n",
      "MVI_0790_VIS_OB_frame515.jpg\n",
      "객체없는 이미지\n",
      "MVI_0790_VIS_OB_frame500.jpg\n",
      "객체없는 이미지\n",
      "MVI_0790_VIS_OB_frame430.jpg\n",
      "객체없는 이미지\n",
      "MVI_0790_VIS_OB_frame425.jpg\n",
      "객체없는 이미지\n",
      "MVI_0790_VIS_OB_frame445.jpg\n",
      "객체없는 이미지\n",
      "MVI_0790_VIS_OB_frame545.jpg\n",
      "객체없는 이미지\n",
      "MVI_0790_VIS_OB_frame455.jpg\n",
      "객체없는 이미지\n",
      "MVI_0790_VIS_OB_frame530.jpg\n",
      "객체없는 이미지\n",
      "MVI_0790_VIS_OB_frame450.jpg\n",
      "객체없는 이미지\n",
      "MVI_0790_VIS_OB_frame480.jpg\n",
      "객체없는 이미지\n",
      "MVI_0790_VIS_OB_frame555.jpg\n",
      "객체없는 이미지\n",
      "MVI_0790_VIS_OB_frame495.jpg\n",
      "객체없는 이미지\n",
      "MVI_0790_VIS_OB_frame465.jpg\n",
      "객체없는 이미지\n",
      "MVI_0790_VIS_OB_frame485.jpg\n",
      "객체없는 이미지\n",
      "MVI_0790_VIS_OB_frame460.jpg\n",
      "객체없는 이미지\n",
      "MVI_0790_VIS_OB_frame535.jpg\n",
      "객체없는 이미지\n",
      ".ipynb_checkpoints\n",
      ".ipynb_checkpoints 파일을 삭제합니다\n",
      "MVI_0790_VIS_OB_frame550.jpg\n",
      "객체없는 이미지\n",
      "MVI_0790_VIS_OB_frame435.jpg\n",
      "객체없는 이미지\n",
      "MVI_0790_VIS_OB_frame490.jpg\n",
      "객체없는 이미지\n"
     ]
    }
   ],
   "source": [
    "#IMAGE_PATH = 'img/'\n",
    "META_TRAIN_PATH = './train.txt'\n",
    "META_TEST_PATH= './test.txt'\n",
    "\n",
    "frame_bb(TRAIN_PATH, META_TRAIN_PATH)\n",
    "frame_bb(TEST_PATH, META_TEST_PATH)"
   ]
  },
  {
   "cell_type": "code",
   "execution_count": 220,
   "id": "explicit-bernard",
   "metadata": {},
   "outputs": [],
   "source": [
    "# swimming person 데이터 모은거 train.txt, test.txt에 추가 수정\n",
    "\n",
    "def swim_image(meta_train_path, meta_test_path):\n",
    "    # meta_path : train/test 별 이미지 목록 텍스트\n",
    "    \n",
    "    meta_train_text = open(meta_train_path, 'a') #  train 프레임 목록 저장하는 텍스트\n",
    "    meta_test_text = open(meta_test_path, 'a') #  test 프레임 목록 저장하는 텍스트\n",
    "    \n",
    "    for i in range(1,37): #1~36    \n",
    "        meta_train_text.write('img/swim'+str(i)+'.jpg\\n') # 목록에 경로 쓰기\n",
    "    for i in range(37,52): #37~51\n",
    "        meta_test_text.write('img/swim'+str(i)+'.jpg\\n') # 목록에 경로 쓰기\n",
    "    "
   ]
  },
  {
   "cell_type": "code",
   "execution_count": 221,
   "id": "academic-section",
   "metadata": {},
   "outputs": [],
   "source": [
    "swim_image(META_TRAIN_PATH, META_TEST_PATH)"
   ]
  },
  {
   "cell_type": "code",
   "execution_count": 219,
   "id": "macro-theme",
   "metadata": {},
   "outputs": [
    {
     "ename": "FileNotFoundError",
     "evalue": "[Errno 2] No such file or directory: './img'",
     "output_type": "error",
     "traceback": [
      "\u001b[0;31m---------------------------------------------------------------------------\u001b[0m",
      "\u001b[0;31mFileNotFoundError\u001b[0m                         Traceback (most recent call last)",
      "\u001b[0;32m<ipython-input-219-bf98a2073514>\u001b[0m in \u001b[0;36m<module>\u001b[0;34m\u001b[0m\n\u001b[0;32m----> 1\u001b[0;31m \u001b[0mfile_list\u001b[0m \u001b[0;34m=\u001b[0m \u001b[0mos\u001b[0m\u001b[0;34m.\u001b[0m\u001b[0mlistdir\u001b[0m\u001b[0;34m(\u001b[0m\u001b[0;34m'./img'\u001b[0m\u001b[0;34m)\u001b[0m\u001b[0;34m\u001b[0m\u001b[0;34m\u001b[0m\u001b[0m\n\u001b[0m\u001b[1;32m      2\u001b[0m \u001b[0mprint\u001b[0m\u001b[0;34m(\u001b[0m\u001b[0;34m'img 디렉토리의 파일수: %d'\u001b[0m\u001b[0;34m%\u001b[0m\u001b[0mlen\u001b[0m\u001b[0;34m(\u001b[0m\u001b[0mfile_list\u001b[0m\u001b[0;34m)\u001b[0m\u001b[0;34m)\u001b[0m\u001b[0;34m\u001b[0m\u001b[0;34m\u001b[0m\u001b[0m\n\u001b[1;32m      3\u001b[0m \u001b[0;31m#file_list2 = os.listdir('PHJ/darknet/img_txt')\u001b[0m\u001b[0;34m\u001b[0m\u001b[0;34m\u001b[0m\u001b[0;34m\u001b[0m\u001b[0m\n\u001b[1;32m      4\u001b[0m \u001b[0;31m#print('img_txt 디렉토리의 파일수: %d'%len(file_list2))\u001b[0m\u001b[0;34m\u001b[0m\u001b[0;34m\u001b[0m\u001b[0;34m\u001b[0m\u001b[0m\n\u001b[1;32m      5\u001b[0m \u001b[0;31m#file_list3 = os.listdir('./train')\u001b[0m\u001b[0;34m\u001b[0m\u001b[0;34m\u001b[0m\u001b[0;34m\u001b[0m\u001b[0m\n",
      "\u001b[0;31mFileNotFoundError\u001b[0m: [Errno 2] No such file or directory: './img'"
     ]
    }
   ],
   "source": [
    "file_list = os.listdir('./img') \n",
    "print('img 디렉토리의 파일수: %d'%len(file_list))\n",
    "#file_list2 = os.listdir('PHJ/darknet/img_txt')\n",
    "#print('img_txt 디렉토리의 파일수: %d'%len(file_list2))\n",
    "#file_list3 = os.listdir('./train')\n",
    "#print('train 디렉토리의 파일수: %d'%len(file_list3))\n",
    "#file_list4 = os.listdir('./test')\n",
    "#print('test 디렉토리의 파일수: %d'%len(file_list4))\n",
    "#file_list5 = os.listdir('./meta')\n",
    "#print('meta 디렉토리의 파일수: %d'%len(file_list5))"
   ]
  },
  {
   "cell_type": "code",
   "execution_count": 167,
   "id": "leading-satisfaction",
   "metadata": {},
   "outputs": [
    {
     "data": {
      "text/plain": [
       "'3 0.000000 0.626584 0.448365 0.166147\\n'"
      ]
     },
     "execution_count": 167,
     "metadata": {},
     "output_type": "execute_result"
    }
   ],
   "source": [
    "r = open('./img/MVI_0801_VIS_OB_frame295.txt', mode='rt', encoding='utf-8')\n",
    "r.read(500)"
   ]
  },
  {
   "cell_type": "code",
   "execution_count": 184,
   "id": "respected-indonesia",
   "metadata": {},
   "outputs": [
    {
     "data": {
      "text/plain": [
       "'2 0.000000 0.626584 0.407652 0.166147\\n'"
      ]
     },
     "execution_count": 184,
     "metadata": {},
     "output_type": "execute_result"
    }
   ],
   "source": [
    "r = open('./img/MVI_0801_VIS_OB_frame295.txt', mode='rt', encoding='utf-8')\n",
    "r.read(500)"
   ]
  },
  {
   "cell_type": "code",
   "execution_count": 186,
   "id": "breathing-flush",
   "metadata": {},
   "outputs": [
    {
     "data": {
      "text/plain": [
       "'2 0.001535 0.464968 0.095157 0.037761\\n9 0.190150 0.467989 0.028887 0.034740\\n3 0.360923 0.372832 0.206457 0.175210\\n'"
      ]
     },
     "execution_count": 186,
     "metadata": {},
     "output_type": "execute_result"
    }
   ],
   "source": [
    "r = open('./img/MVI_1532_NIR_frame0.txt', mode='rt', encoding='utf-8')\n",
    "r.read(500)\n"
   ]
  },
  {
   "cell_type": "code",
   "execution_count": 207,
   "id": "honey-mexican",
   "metadata": {},
   "outputs": [
    {
     "data": {
      "text/plain": [
       "'2 0.008839 0.427207 0.017678 0.042292\\n2 0.041892 0.424186 0.056924 0.039271\\n2 0.095418 0.427207 0.028037 0.033229\\n2 0.164237 0.417389 0.096007 0.040782\\n2 0.281059 0.435514 0.020391 0.028698\\n2 0.307397 0.430983 0.013594 0.031719\\n2 0.497287 0.400774 0.226848 0.092136\\n2 0.626004 0.420410 0.062872 0.043803\\n2 0.735605 0.428717 0.030586 0.021146\\n2 0.775112 0.427207 0.024639 0.036250\\n2 0.949708 0.424186 0.023789 0.036250\\n3 0.360498 0.431738 0.026338 0.024167\\n'"
      ]
     },
     "execution_count": 207,
     "metadata": {},
     "output_type": "execute_result"
    }
   ],
   "source": [
    "# 210215수정 후 \n",
    "r = open('./img/MVI_1613_VIS_frame600.txt', mode='rt', encoding='utf-8')\n",
    "r.read(500)"
   ]
  },
  {
   "cell_type": "code",
   "execution_count": 193,
   "id": "amino-silver",
   "metadata": {},
   "outputs": [
    {
     "name": "stdout",
     "output_type": "stream",
     "text": [
      "0.138229625\n",
      "0.35301697552083333\n",
      "0.8177143817708333\n",
      "0.927133615625\n",
      "0.6764131541666667\n"
     ]
    }
   ],
   "source": [
    "print(265.400880/1920)\n",
    "print(677.792593/1920)\n",
    "print(1570.011613/1920)\n",
    "print(1780.096542/1920)\n",
    "print(1298.713256/1920)\n"
   ]
  },
  {
   "cell_type": "code",
   "execution_count": null,
   "id": "silver-namibia",
   "metadata": {},
   "outputs": [],
   "source": []
  }
 ],
 "metadata": {
  "kernelspec": {
   "display_name": "Python 3",
   "language": "python",
   "name": "python3"
  },
  "language_info": {
   "codemirror_mode": {
    "name": "ipython",
    "version": 3
   },
   "file_extension": ".py",
   "mimetype": "text/x-python",
   "name": "python",
   "nbconvert_exporter": "python",
   "pygments_lexer": "ipython3",
   "version": "3.8.5"
  }
 },
 "nbformat": 4,
 "nbformat_minor": 5
}
